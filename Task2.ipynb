{
 "cells": [
  {
   "cell_type": "markdown",
   "id": "fbe66355-9b32-4767-8576-3b369c818ded",
   "metadata": {},
   "source": [
    "<h1>Dictionary</h1>"
   ]
  },
  {
   "cell_type": "code",
   "execution_count": 110,
   "id": "dbfc3505-1327-45cb-89c6-de644b492617",
   "metadata": {},
   "outputs": [
    {
     "name": "stdout",
     "output_type": "stream",
     "text": [
      "<class 'dict'>\n",
      "{'one': 'mariam', 'two': 'mostafa', 'three': [1, 2, 3]}\n"
     ]
    }
   ],
   "source": [
    "#Dictionary Making \n",
    "dict_ = {\"one\":\"menna\", \"two\":\"mostafa\", \"one\":\"mariam\", \"three\":[1,2,3]}\n",
    "print(type(dict_))\n",
    "print(dict_)"
   ]
  },
  {
   "cell_type": "code",
   "execution_count": 111,
   "id": "06ac48b7-5e69-42a4-b24e-b3511ba2e224",
   "metadata": {},
   "outputs": [
    {
     "name": "stdout",
     "output_type": "stream",
     "text": [
      "mariam\n",
      "mostafa\n",
      "dict_values(['mariam', 'mostafa', [1, 2, 3]])\n",
      "Value:  mariam\n",
      "Value:  mostafa\n",
      "Value:  [1, 2, 3]\n",
      "<class 'list'>  :  ['mariam', 'mostafa', [1, 2, 3]]\n",
      "dict_keys(['one', 'two', 'three'])\n",
      "Key:  one\n",
      "Key:  two\n",
      "Key:  three\n",
      "<class 'list'>  :  ['one', 'two', 'three']\n",
      "dict_items([('one', 'mariam'), ('two', 'mostafa'), ('three', [1, 2, 3])])\n",
      "Key :  one ,  Value :  mariam\n",
      "Key :  two ,  Value :  mostafa\n",
      "Key :  three ,  Value :  [1, 2, 3]\n",
      "<class 'list'>  :  [('one', 'mariam'), ('two', 'mostafa'), ('three', [1, 2, 3])]\n"
     ]
    }
   ],
   "source": [
    "#Accessing dictionary\n",
    "print(dict_[\"one\"])\n",
    "print(dict_.get(\"two\"))\n",
    "      \n",
    "#Getting all values \n",
    "print(dict_.values())\n",
    "for value in dict_.values():\n",
    "    print(\"Value: \" , value)\n",
    "\n",
    "#Putting them in a list \n",
    "val_list = list(dict_.values())\n",
    "print(type(val_list) ,\" : \",val_list)\n",
    "\n",
    "#Getting all keys\n",
    "print(dict_.keys())\n",
    "for key in dict_.keys():\n",
    "    print(\"Key: \" , key)\n",
    "\n",
    "#Putting them in a list \n",
    "key_list = list(dict_.keys())\n",
    "print(type(key_list), \" : \", key_list)\n",
    "\n",
    "#Getting key with value\n",
    "print(dict_.items())\n",
    "for key,value in dict_.items():\n",
    "    print(\"Key : \" , key ,\",\" ,\" Value : \" , value)\n",
    "\n",
    "key_val_list = list(dict_.items())\n",
    "print(type(key_val_list), \" : \" , key_val_list)"
   ]
  },
  {
   "cell_type": "code",
   "execution_count": 112,
   "id": "7e4538d5-747a-46c3-88c4-d6a108de9ece",
   "metadata": {},
   "outputs": [
    {
     "name": "stdout",
     "output_type": "stream",
     "text": [
      "Updating :  {'one': 'mariam', 'two': 'mostafa', 'three': [1, 2, 3], 'four': 'omnia', 5: 'islam', 'six': 'nadeen', 'seven': 'yara'}\n",
      "Editing :  {'one': 'mariam', 'two': 'mostafa', 'three': [1, 'edit', 3], 'four': 'omnia', 5: 'islam', 'six': 'nadeen', 'seven': 'yara'}\n",
      "Delete last item :  {'one': 'mariam', 'two': 'mostafa', 'three': [1, 'edit', 3], 'four': 'omnia', 5: 'islam', 'six': 'nadeen'}\n",
      "Delete :  {'one': 'mariam', 'two': 'mostafa', 5: 'islam', 'six': 'nadeen'}\n",
      "{'one': 'mariam', 'two': 'mostafa', 'six': 'updated'}\n"
     ]
    }
   ],
   "source": [
    "#Adding\n",
    "dict_.update({\"four\" : \"omnia\"})\n",
    "dict_.update({5 : \"islam\"}) \n",
    "dict_.update({\"six\" : \"nadeen\"})\n",
    "dict_.update({\"seven\" : \"yara\"})\n",
    "print(\"Updating : \" , dict_)\n",
    "\n",
    "#Editing & Deleting\n",
    "dict_[\"three\"][1] = \"edit\"\n",
    "print(\"Editing : \" , dict_)\n",
    "\n",
    "dict_.popitem()\n",
    "print(\"Delete last item : \" , dict_)\n",
    "\n",
    "del dict_[\"three\"]\n",
    "dict_.pop(\"four\")\n",
    "print(\"Delete : \" , dict_)\n",
    "\n",
    "for key in list(dict_.keys()):\n",
    "    if key == 5:\n",
    "        del dict_[5]\n",
    "    if key == \"six\":\n",
    "        dict_[key] = \"updated\"\n",
    "\n",
    "print(dict_)"
   ]
  },
  {
   "cell_type": "code",
   "execution_count": 113,
   "id": "65ac90e3-8f1c-4466-bce2-f428752b7daf",
   "metadata": {},
   "outputs": [
    {
     "name": "stdout",
     "output_type": "stream",
     "text": [
      "{'one': 'mariam', 'two': 'mostafa', 'six': 'updated'}\n",
      "mostafa\n",
      "dict copy :  {'one': 'mariam', 'two': 'mostafa', 'six': 'updated', 'seven': 'default'}\n",
      "New Dict :  {1: 2, 2: 2, 3: 2}\n",
      "Dict leng :  3\n",
      "Original dict :  {}\n",
      "Copy dict :  {'one': 'mariam', 'two': 'mostafa', 'six': 'updated', 'seven': 'default'}\n"
     ]
    }
   ],
   "source": [
    "#Dictionary copy\n",
    "dict_copy = dict_.copy()\n",
    "print(dict_copy)\n",
    "\n",
    "#Set Default\n",
    "x = dict_copy.setdefault(\"two\",\"default\")\n",
    "print(x)\n",
    "dict_copy.setdefault(\"seven\",\"default\")\n",
    "print(\"dict copy : \", dict_copy)\n",
    "\n",
    "#Forming new DIC with VAL\n",
    "keys = (1,2,3)\n",
    "values = 2\n",
    "new_dict = dict.fromkeys(keys,values)\n",
    "\n",
    "print(\"New Dict : \" , new_dict)\n",
    "\n",
    "#Dictionary Length\n",
    "print(\"Dict leng : \" , len(new_dict))\n",
    "\n",
    "#Clearing original dict\n",
    "dict_.clear()\n",
    "print(\"Original dict : \" , dict_)\n",
    "print(\"Copy dict : \" , dict_copy)"
   ]
  },
  {
   "cell_type": "code",
   "execution_count": 117,
   "id": "23030f44-3a6f-4265-95f1-806d18f0dd2f",
   "metadata": {},
   "outputs": [
    {
     "name": "stdout",
     "output_type": "stream",
     "text": [
      "True\n",
      "one mariam\n",
      "two mostafa\n",
      "six updated\n",
      "seven default\n"
     ]
    }
   ],
   "source": [
    "#finding a pair of key val their summation = 4\n",
    "found = any(key + val == 4 for key,val in new_dict.items())\n",
    "print(found)\n",
    "\n",
    "#While loop with dictionary\n",
    "list_k = list(dict_copy)\n",
    "i = 0\n",
    "while i < len(list_k):\n",
    "    print(list_k[i] ,  dict_copy[list_k[i]])\n",
    "    i += 1\n"
   ]
  },
  {
   "cell_type": "code",
   "execution_count": 118,
   "id": "b723bddf-42e5-41ed-b3af-242b18a2e11a",
   "metadata": {},
   "outputs": [
    {
     "data": {
      "text/plain": [
       "'\\nany[condition for x in list]\\n\\ndef any(iterable):\\n    for element in iterable:\\n        if element:\\n            return True\\n    return False\\n'"
      ]
     },
     "execution_count": 118,
     "metadata": {},
     "output_type": "execute_result"
    }
   ],
   "source": [
    "#any function \n",
    "\n",
    "'''\n",
    "any[condition for x in list]\n",
    "\n",
    "def any(iterable):\n",
    "    for element in iterable:\n",
    "        if element:\n",
    "            return True\n",
    "    return False\n",
    "'''"
   ]
  },
  {
   "cell_type": "code",
   "execution_count": null,
   "id": "ee4967ae-6242-409a-b22b-319d0aef4b39",
   "metadata": {},
   "outputs": [],
   "source": []
  }
 ],
 "metadata": {
  "kernelspec": {
   "display_name": "Python 3 (ipykernel)",
   "language": "python",
   "name": "python3"
  },
  "language_info": {
   "codemirror_mode": {
    "name": "ipython",
    "version": 3
   },
   "file_extension": ".py",
   "mimetype": "text/x-python",
   "name": "python",
   "nbconvert_exporter": "python",
   "pygments_lexer": "ipython3",
   "version": "3.12.4"
  }
 },
 "nbformat": 4,
 "nbformat_minor": 5
}
